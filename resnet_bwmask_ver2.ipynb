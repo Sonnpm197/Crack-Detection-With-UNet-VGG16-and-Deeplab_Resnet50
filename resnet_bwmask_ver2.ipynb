{
 "cells": [
  {
   "cell_type": "markdown",
   "id": "98cd38f0-0427-4eae-b087-e5d7fcb2f84d",
   "metadata": {},
   "source": [
    "# New"
   ]
  },
  {
   "cell_type": "code",
   "execution_count": 15,
   "id": "04164e71-a3ce-4896-a4a7-3a5cfd79ca22",
   "metadata": {
    "tags": []
   },
   "outputs": [],
   "source": [
    "import os\n",
    "import zipfile\n",
    "import matplotlib.pyplot as plt\n",
    "import torch\n",
    "from tqdm import tqdm\n",
    "import gc\n",
    "import argparse\n",
    "import time\n",
    "import pandas as pd\n",
    "import torch.optim as optim\n",
    "from torch import nn\n",
    "from torch.utils.data import DataLoader\n",
    "from torchvision.transforms import ToPILImage\n",
    "from tqdm import tqdm\n",
    "from torchmetrics import JaccardIndex\n",
    "import shutil\n",
    "from torchvision import models\n",
    "from torchsummary import summary\n",
    "from torchvision.models.segmentation import deeplabv3_resnet50\n",
    "from torchvision.models.segmentation.deeplabv3 import DeepLabHead"
   ]
  },
  {
   "cell_type": "code",
   "execution_count": 14,
   "id": "d7cc5d53-69dc-4306-b7b8-47368c28c368",
   "metadata": {
    "tags": []
   },
   "outputs": [
    {
     "name": "stdout",
     "output_type": "stream",
     "text": [
      "Dataset extracted to: extracted_dataset\n"
     ]
    }
   ],
   "source": [
    "# Define function to extract the dataset from ZIP\n",
    "def extract_zip(zip_path, extract_to):\n",
    "    \"\"\"\n",
    "    Extracts a ZIP file to the specified directory.\n",
    "    \"\"\"\n",
    "    if not os.path.exists(extract_to):\n",
    "        os.makedirs(extract_to)\n",
    "    \n",
    "    with zipfile.ZipFile(zip_path, 'r') as zip_ref:\n",
    "        zip_ref.extractall(extract_to)\n",
    "        print(f\"Dataset extracted to: {extract_to}\")\n",
    "\n",
    "# Path to the ZIP file and extraction directory\n",
    "zip_file_path = 'archive_3.zip'\n",
    "extracted_data_path = 'extracted_dataset'\n",
    "\n",
    "# Call the function to extract the ZIP file\n",
    "extract_zip(zip_file_path, extracted_data_path)"
   ]
  },
  {
   "cell_type": "code",
   "execution_count": 16,
   "id": "a0ca7ccd-34a6-4366-b84f-a0ec61aa1709",
   "metadata": {
    "tags": []
   },
   "outputs": [],
   "source": [
    "H = 448\n",
    "W = 448"
   ]
  },
  {
   "cell_type": "code",
   "execution_count": 52,
   "id": "f4e03de7-0886-4b4b-a268-6b5ac430c1ff",
   "metadata": {
    "tags": []
   },
   "outputs": [],
   "source": [
    "from collections import namedtuple\n",
    "import matplotlib.colors as colors\n",
    "import numpy as np\n",
    "import matplotlib.pyplot as plt\n",
    "#import tensorflow as tf\n",
    "Label = namedtuple( 'Label' , ['name' ,'id','color'] )\n",
    "labels = [\n",
    "    Label(  'ground'  ,  0 ,  (0,  0,  0)     ),\n",
    "    Label(  'crack'   ,  1 ,  (255, 255, 255) )\n",
    "]\n",
    "\n",
    "max_label_id = max([l.id for l in labels])\n",
    "\n",
    "# turn to arr of numbers between 0 to 1\n",
    "LabelCmap = colors.ListedColormap([np.array(l.color) / 255 for l in labels])\n",
    "bounds = np.linspace(0, max_label_id, len(labels))\n",
    "\n",
    "def display(display_list):\n",
    "  fig, cols = plt.subplots(1, len(display_list), sharey=True)\n",
    "  fig.set_size_inches(15, 5)\n",
    "  title = ['Input Image', 'Ground-truth Labels', 'Stage 1 Prediction Labels']\n",
    "  im = None\n",
    "  for i in range(len(display_list)):\n",
    "    cols[i].set_title(title[i])\n",
    "    y = display_list[i]\n",
    "    \n",
    "    if 'Label' in title[i]:\n",
    "      w,h,_ = y.shape\n",
    "      y = y.reshape(w,h)\n",
    "      im = cols[i].imshow(y, cmap=LabelCmap, vmin=0, vmax=max_label_id)\n",
    "    else:\n",
    "      im = cols[i].imshow(tf.keras.preprocessing.image.array_to_img(y)) # this look better\n",
    "      #im = cols[i].imshow(y)\n",
    "    cols[i].axis('off')\n",
    "  cbar = plt.colorbar(im, ax=cols.ravel().tolist(), cmap=LabelCmap, norm=colors.BoundaryNorm(bounds, LabelCmap.N), \n",
    "                      orientation='horizontal',spacing='proportional', ticks=bounds, boundaries=bounds, format='%1i')\n",
    "  cbar.ax.set_xticklabels([l.name for l in labels], rotation=90)\n",
    "  plt.show()"
   ]
  },
  {
   "cell_type": "code",
   "execution_count": 77,
   "id": "53d4e022-b3d7-4ecc-9079-19b30f5c7175",
   "metadata": {
    "tags": []
   },
   "outputs": [],
   "source": [
    "# Plotting Loss, IoU, and Correct in separate subplots\n",
    "def plot_combined_metrics(train_loss, val_loss, train_iou, val_iou, train_correct, val_correct, save_path='metrics_plot.png'):\n",
    "    epochs = range(1, len(train_loss) + 1)\n",
    "\n",
    "    # Create subplots for Loss, IoU, and Correct Predictions\n",
    "    fig, (ax1, ax2, ax3) = plt.subplots(1, 3, figsize=(21, 6))\n",
    "\n",
    "    # Plotting Loss\n",
    "    ax1.plot(epochs, train_loss, label='Training Loss', color='tab:blue', linestyle='-')\n",
    "    ax1.plot(epochs, val_loss, label='Validation Loss', color='tab:orange', linestyle='--')\n",
    "    ax1.set_title('Loss Over Epochs')\n",
    "    ax1.set_xlabel('Epochs')\n",
    "    ax1.set_ylabel('Loss')\n",
    "    ax1.legend()\n",
    "\n",
    "    # Plotting IoU\n",
    "    ax2.plot(epochs, train_iou, label='Training IoU', color='tab:green', linestyle='-')\n",
    "    ax2.plot(epochs, val_iou, label='Validation IoU', color='tab:red', linestyle='--')\n",
    "    ax2.set_title('IoU Over Epochs')\n",
    "    ax2.set_xlabel('Epochs')\n",
    "    ax2.set_ylabel('IoU')\n",
    "    ax2.legend()\n",
    "\n",
    "    # Plotting Correct Predictions\n",
    "    ax3.plot(epochs, train_correct, label='Training mPA', color='tab:purple', linestyle='-')\n",
    "    ax3.plot(epochs, val_correct, label='Validation mPA', color='tab:brown', linestyle='--')\n",
    "    ax3.set_title('Mean Pixel Accuracy (mPA) Over Epochs')\n",
    "    ax3.set_xlabel('Epochs')\n",
    "    ax3.set_ylabel('mPA')\n",
    "    ax3.legend()\n",
    "\n",
    "    # Adjust layout to prevent overlap\n",
    "    plt.tight_layout()\n",
    "\n",
    "    # Save the plot to a file\n",
    "    plt.savefig(save_path)\n",
    "    plt.close()  # Close the plot to free memory"
   ]
  },
  {
   "cell_type": "code",
   "execution_count": 60,
   "id": "9f58616f-c8dd-48bf-bfac-09bb8d49c3aa",
   "metadata": {
    "tags": []
   },
   "outputs": [],
   "source": [
    "from torchvision import transforms, datasets\n",
    "import os\n",
    "import os.path as osp\n",
    "import random\n",
    "from glob import glob\n",
    "from PIL import Image\n",
    "import scipy.io as scio\n",
    "from torch.utils.data import Dataset\n",
    "from sklearn.model_selection import train_test_split\n",
    "import cv2\n",
    "from PIL import Image\n",
    "import torch\n",
    "\n",
    "class CrackDataSet(torch.utils.data.Dataset):\n",
    "    # data[0] is image, data[1] is mask\n",
    "    def __init__(self, data, data_transforms):\n",
    "        self.data_transforms = data_transforms\n",
    "        self.data = data\n",
    "        \n",
    "    def __len__(self):\n",
    "        return len(self.data[0]) # images size\n",
    "        \n",
    "    def __getitem__(self, index):\n",
    "        # OpenCV's default = BGR => RGB and then adding normalization here\n",
    "        image = cv2.imread(self.data[0][index], cv2.IMREAD_COLOR)\n",
    "        image = self.data_transforms(Image.fromarray(cv2.cvtColor(image, cv2.COLOR_BGR2RGB).astype('uint8'), 'RGB'))\n",
    "\n",
    "        # masks are black and white images, so pixels closer to 255 consider = crack = label them\n",
    "        mask = cv2.imread(self.data[1][index], cv2.IMREAD_GRAYSCALE)\n",
    "        mask_label = np.zeros(mask.shape)\n",
    "        mask_label[mask >= 128] = 1\n",
    "        mask_label = np.asarray(mask_label, np.compat.long)\n",
    "        mask_label = torch.LongTensor(mask_label)\n",
    "        return image, mask_label"
   ]
  },
  {
   "cell_type": "code",
   "execution_count": 66,
   "id": "bd430100-7c88-4149-8761-3b793e1ad927",
   "metadata": {
    "tags": []
   },
   "outputs": [],
   "source": [
    "import argparse\n",
    "import os\n",
    "import time\n",
    "import pandas as pd\n",
    "import torch.optim as optim\n",
    "from torch import nn\n",
    "from torch.utils.data import DataLoader\n",
    "from torchvision.transforms import ToPILImage\n",
    "from tqdm import tqdm\n",
    "from torchmetrics import JaccardIndex\n",
    "import shutil\n",
    "from torchvision import models\n",
    "from torchsummary import summary\n",
    "\n",
    "def load_data(path=''):\n",
    "    images = sorted(glob(os.path.join(path, \"images/*\")))\n",
    "    masks = sorted(glob(os.path.join(path, \"masks/*\")))\n",
    "    train_x, valid_x, train_y, valid_y = train_test_split(images, masks, test_size=0.2, random_state=42)\n",
    "    return (train_x, train_y), (valid_x, valid_y)\n",
    "\n",
    "class Trainer_Wrapper():\n",
    "    def __init__(self, model, input_path, batch_size, max_epochs, num_class=2):\n",
    "        self.num_class = num_class\n",
    "        self.device = torch.device(\"cuda\" if torch.cuda.is_available() else \"cpu\")\n",
    "        self.batch_size = batch_size\n",
    "        self.epoch = 1\n",
    "        self.max_epochs = max_epochs\n",
    "        self.lr = 0.001\n",
    "        data_train, data_eval = load_data(path=input_path)\n",
    "        self.image_datasets = {\n",
    "            'train': CrackDataSet(data_train, data_transforms['train']),\n",
    "            'validation': CrackDataSet(data_eval, data_transforms['validation'])\n",
    "        }\n",
    "        self.train_loader = torch.utils.data.DataLoader(self.image_datasets['train'],\n",
    "                                                        batch_size=batch_size, shuffle=True)\n",
    "        self.val_loader = torch.utils.data.DataLoader(self.image_datasets['validation'],\n",
    "                                                      batch_size=batch_size, shuffle=False)\n",
    "        self.model = model.to(self.device)\n",
    "        self.optimizer = optim.Adam(self.model.parameters(), lr=self.lr)\n",
    "        self.scaler = torch.amp.GradScaler('cuda')  # Add mixed precision scaler\n",
    "\n",
    "        self.fiou = JaccardIndex(task='multiclass', num_classes=self.num_class).to(self.device)\n",
    "        self.loss_criterion = nn.CrossEntropyLoss()\n",
    "        self.train_loss_history, self.train_iou_history, self.train_correct_history = [], [], []\n",
    "        self.eval_loss_history, self.eval_iou_history, self.eval_correct_history = [], [], []\n",
    "\n",
    "    def begin_train(self):\n",
    "        for self.epoch in range(1, self.max_epochs + 1):\n",
    "            self.training()\n",
    "            self.evaluate_epoch('Validation', self.val_loader)\n",
    "            \n",
    "            # Clear memory after each epoch\n",
    "            torch.cuda.empty_cache()\n",
    "            gc.collect()\n",
    "\n",
    "        plot_combined_metrics(\n",
    "            self.train_loss_history, self.eval_loss_history,\n",
    "            self.train_iou_history, self.eval_iou_history,\n",
    "            self.train_correct_history, self.eval_correct_history\n",
    "        )\n",
    "\n",
    "    def training(self):\n",
    "        self.model.train()\n",
    "        total_correct, total_iou, total_loss, total_num_of_images = 0.0, 0.0, 0.0, 0.0\n",
    "        num_of_batches = 0\n",
    "\n",
    "        for data, target in tqdm(self.train_loader, desc=f\"Training Epoch {self.epoch}/{self.max_epochs}\"):\n",
    "            num_of_batches += 1\n",
    "            data, target = data.to(self.device), target.to(self.device)\n",
    "\n",
    "            with torch.amp.autocast('cuda'):  # Enable mixed precision\n",
    "                out = self.model(data)['out']\n",
    "                loss = self.loss_criterion(out, target)\n",
    "\n",
    "            # Backpropagation with scaled gradients\n",
    "            self.optimizer.zero_grad()\n",
    "            self.scaler.scale(loss).backward()\n",
    "            self.scaler.step(self.optimizer)\n",
    "            self.scaler.update()\n",
    "\n",
    "            # Update metrics\n",
    "            prediction = torch.argmax(out, dim=1)\n",
    "            num_of_samples = data.size(0)\n",
    "            total_loss += loss.item() * num_of_samples\n",
    "            total_iou += self.fiou(out, target).item()\n",
    "            total_num_of_images += num_of_samples\n",
    "            total_correct += torch.sum(prediction == target).item() / target.numel() * num_of_samples\n",
    "\n",
    "            # Clear memory after each batch\n",
    "            torch.cuda.empty_cache()\n",
    "            gc.collect()\n",
    "\n",
    "        avg_loss = total_loss / total_num_of_images\n",
    "        avg_iou = total_iou / num_of_batches\n",
    "        avg_correct = total_correct / total_num_of_images\n",
    "\n",
    "        self.train_loss_history.append(avg_loss)\n",
    "        self.train_iou_history.append(avg_iou)\n",
    "        self.train_correct_history.append(avg_correct)\n",
    "\n",
    "        print(f\"Training - Epoch [{self.epoch}/{self.max_epochs}] - \"\n",
    "              f\"Loss: {avg_loss:.4f} | mPA: {avg_correct * 100:.2f}% | IoU: {avg_iou:.4f}\")\n",
    "\n",
    "    def evaluate_epoch(self, epoch_mode, loader):\n",
    "        self.model.eval()\n",
    "        total_iou, total_loss, total_correct, total_num_of_images = 0.0, 0.0, 0.0, 0\n",
    "        num_of_batches = 0\n",
    "\n",
    "        with torch.no_grad():  # Disable gradient calculation during evaluation\n",
    "            for data, target in tqdm(loader, desc=f\"Evaluating {epoch_mode}\"):\n",
    "                num_of_batches += 1\n",
    "                data, target = data.to(self.device), target.to(self.device)\n",
    "\n",
    "                out = self.model(data)['out']\n",
    "                prediction = torch.argmax(out, dim=1)\n",
    "\n",
    "                # Calculate loss, IoU, and correct predictions\n",
    "                loss = self.loss_criterion(out, target)\n",
    "                num_of_samples = data.size(0)\n",
    "                total_loss += loss.item() * num_of_samples\n",
    "                total_iou += self.fiou(out, target).item()\n",
    "                total_num_of_images += num_of_samples\n",
    "                total_correct += torch.sum(prediction == target).item() / target.numel() * num_of_samples\n",
    "\n",
    "        # Use safe division to prevent division by zero\n",
    "        avg_loss = total_loss / total_num_of_images if total_num_of_images > 0 else 0\n",
    "        avg_iou = total_iou / num_of_batches if num_of_batches > 0 else 0\n",
    "        avg_correct = total_correct / total_num_of_images if total_num_of_images > 0 else 0\n",
    "\n",
    "        # Append metrics to history lists\n",
    "        if epoch_mode == 'Training':\n",
    "            self.train_loss_history.append(avg_loss)\n",
    "            self.train_iou_history.append(avg_iou)\n",
    "            self.train_correct_history.append(avg_correct)\n",
    "        else:\n",
    "            self.eval_loss_history.append(avg_loss)\n",
    "            self.eval_iou_history.append(avg_iou)\n",
    "            self.eval_correct_history.append(avg_correct)\n",
    "\n",
    "        print(f\"{epoch_mode} - Epoch [{self.epoch}/{self.max_epochs}] - \"\n",
    "              f\"Loss: {avg_loss:.4f} | mPA: {avg_correct * 100:.2f}% | IoU: {avg_iou:.4f}\")\n",
    "\n",
    "        # Clear memory after evaluation\n",
    "        torch.cuda.empty_cache()\n",
    "        gc.collect()"
   ]
  },
  {
   "cell_type": "code",
   "execution_count": null,
   "id": "204ead11-71d0-4b7a-bdb3-1e9666a9df96",
   "metadata": {
    "tags": []
   },
   "outputs": [],
   "source": [
    "import gc\n",
    "\n",
    "def clear_memory():\n",
    "    torch.cuda.empty_cache()\n",
    "    gc.collect()"
   ]
  },
  {
   "cell_type": "code",
   "execution_count": 67,
   "id": "bafccfea-c829-438c-ab77-5000334ab4bc",
   "metadata": {
    "tags": []
   },
   "outputs": [
    {
     "data": {
      "text/plain": [
       "4523"
      ]
     },
     "execution_count": 67,
     "metadata": {},
     "output_type": "execute_result"
    }
   ],
   "source": [
    "import torch\n",
    "torch.cuda.empty_cache()  # Clear cached memory\n",
    "gc.collect()"
   ]
  },
  {
   "cell_type": "code",
   "execution_count": 68,
   "id": "37bca157-fab0-4c28-af31-9f84c5d60ea6",
   "metadata": {
    "tags": []
   },
   "outputs": [],
   "source": [
    "from torchvision.models.segmentation import deeplabv3_resnet50\n",
    "from torchvision.models.segmentation.deeplabv3 import DeepLabHead\n",
    "from torchvision.models.segmentation import deeplabv3_resnet101\n",
    "from torchvision.models.segmentation import deeplabv3_mobilenet_v3_large\n",
    "from torchvision.models.segmentation import DeepLabV3_ResNet50_Weights\n",
    "\n",
    "input_path = 'extracted_dataset/crack_segmentation_dataset'\n",
    "batch_size = 8\n",
    "max_epochs = 25\n",
    "num_of_classes = 2\n",
    "\n",
    "normalize = transforms.Normalize(mean=[0.485, 0.456, 0.406], std=[0.229, 0.224, 0.225])\n",
    "\n",
    "data_transforms = {\n",
    "    'train': transforms.Compose([transforms.ToTensor(), normalize]),\n",
    "    'validation': transforms.Compose([transforms.ToTensor(), normalize]),\n",
    "}"
   ]
  },
  {
   "cell_type": "code",
   "execution_count": 69,
   "id": "d057f1ec-4a7a-4043-9140-087a9cf73360",
   "metadata": {
    "tags": []
   },
   "outputs": [],
   "source": [
    "from torchvision.models.segmentation import DeepLabV3_ResNet50_Weights, deeplabv3_resnet50\n",
    "from torchvision.models.segmentation.deeplabv3 import DeepLabHead\n",
    "\n",
    "def custom_DeepLabv3():\n",
    "    # Load the pretrained weights\n",
    "    weights = DeepLabV3_ResNet50_Weights.COCO_WITH_VOC_LABELS_V1\n",
    "\n",
    "    # Load the model with default weights (21 classes)\n",
    "    model = deeplabv3_resnet50(weights=weights, progress=True)\n",
    "\n",
    "    # Replace the classifier to fit 2 classes (ground, crack)\n",
    "    model.classifier = DeepLabHead(2048, 2)\n",
    "\n",
    "    model.train()\n",
    "    return model"
   ]
  },
  {
   "cell_type": "code",
   "execution_count": null,
   "id": "ef27a0e6-78da-4319-a733-8c9aeca547b8",
   "metadata": {
    "tags": []
   },
   "outputs": [
    {
     "name": "stderr",
     "output_type": "stream",
     "text": [
      "Training Epoch 1/25: 100%|██████████| 1130/1130 [13:55<00:00,  1.35it/s]\n"
     ]
    },
    {
     "name": "stdout",
     "output_type": "stream",
     "text": [
      "Training - Epoch [1/25] - Loss: 0.0784 | mPA: 97.11% | IoU: 0.6760\n"
     ]
    },
    {
     "name": "stderr",
     "output_type": "stream",
     "text": [
      "Evaluating Validation: 100%|██████████| 283/283 [03:03<00:00,  1.54it/s]\n"
     ]
    },
    {
     "name": "stdout",
     "output_type": "stream",
     "text": [
      "Validation - Epoch [1/25] - Loss: 0.0627 | mPA: 97.69% | IoU: 0.7036\n"
     ]
    },
    {
     "name": "stderr",
     "output_type": "stream",
     "text": [
      "Training Epoch 2/25: 100%|██████████| 1130/1130 [13:58<00:00,  1.35it/s]\n"
     ]
    },
    {
     "name": "stdout",
     "output_type": "stream",
     "text": [
      "Training - Epoch [2/25] - Loss: 0.0603 | mPA: 97.73% | IoU: 0.7241\n"
     ]
    },
    {
     "name": "stderr",
     "output_type": "stream",
     "text": [
      "Evaluating Validation: 100%|██████████| 283/283 [03:02<00:00,  1.55it/s]\n"
     ]
    },
    {
     "name": "stdout",
     "output_type": "stream",
     "text": [
      "Validation - Epoch [2/25] - Loss: 0.0639 | mPA: 97.58% | IoU: 0.7214\n"
     ]
    },
    {
     "name": "stderr",
     "output_type": "stream",
     "text": [
      "Training Epoch 3/25: 100%|██████████| 1130/1130 [13:58<00:00,  1.35it/s]\n"
     ]
    },
    {
     "name": "stdout",
     "output_type": "stream",
     "text": [
      "Training - Epoch [3/25] - Loss: 0.0575 | mPA: 97.80% | IoU: 0.7315\n"
     ]
    },
    {
     "name": "stderr",
     "output_type": "stream",
     "text": [
      "Evaluating Validation: 100%|██████████| 283/283 [03:02<00:00,  1.55it/s]\n"
     ]
    },
    {
     "name": "stdout",
     "output_type": "stream",
     "text": [
      "Validation - Epoch [3/25] - Loss: 0.0556 | mPA: 97.87% | IoU: 0.7448\n"
     ]
    },
    {
     "name": "stderr",
     "output_type": "stream",
     "text": [
      "Training Epoch 4/25: 100%|██████████| 1130/1130 [13:53<00:00,  1.36it/s]\n"
     ]
    },
    {
     "name": "stdout",
     "output_type": "stream",
     "text": [
      "Training - Epoch [4/25] - Loss: 0.0547 | mPA: 97.88% | IoU: 0.7392\n"
     ]
    },
    {
     "name": "stderr",
     "output_type": "stream",
     "text": [
      "Evaluating Validation: 100%|██████████| 283/283 [03:02<00:00,  1.55it/s]\n"
     ]
    },
    {
     "name": "stdout",
     "output_type": "stream",
     "text": [
      "Validation - Epoch [4/25] - Loss: 0.0587 | mPA: 97.72% | IoU: 0.7274\n"
     ]
    },
    {
     "name": "stderr",
     "output_type": "stream",
     "text": [
      "Training Epoch 5/25: 100%|██████████| 1130/1130 [13:50<00:00,  1.36it/s]\n"
     ]
    },
    {
     "name": "stdout",
     "output_type": "stream",
     "text": [
      "Training - Epoch [5/25] - Loss: 0.0536 | mPA: 97.91% | IoU: 0.7430\n"
     ]
    },
    {
     "name": "stderr",
     "output_type": "stream",
     "text": [
      "Evaluating Validation: 100%|██████████| 283/283 [03:02<00:00,  1.55it/s]\n"
     ]
    },
    {
     "name": "stdout",
     "output_type": "stream",
     "text": [
      "Validation - Epoch [5/25] - Loss: 0.0587 | mPA: 97.81% | IoU: 0.7429\n"
     ]
    },
    {
     "name": "stderr",
     "output_type": "stream",
     "text": [
      "Training Epoch 6/25: 100%|██████████| 1130/1130 [13:51<00:00,  1.36it/s]\n"
     ]
    },
    {
     "name": "stdout",
     "output_type": "stream",
     "text": [
      "Training - Epoch [6/25] - Loss: 0.0524 | mPA: 97.95% | IoU: 0.7456\n"
     ]
    },
    {
     "name": "stderr",
     "output_type": "stream",
     "text": [
      "Evaluating Validation: 100%|██████████| 283/283 [03:02<00:00,  1.55it/s]\n"
     ]
    },
    {
     "name": "stdout",
     "output_type": "stream",
     "text": [
      "Validation - Epoch [6/25] - Loss: 0.0533 | mPA: 97.98% | IoU: 0.7441\n"
     ]
    },
    {
     "name": "stderr",
     "output_type": "stream",
     "text": [
      "Training Epoch 7/25: 100%|██████████| 1130/1130 [13:52<00:00,  1.36it/s]\n"
     ]
    },
    {
     "name": "stdout",
     "output_type": "stream",
     "text": [
      "Training - Epoch [7/25] - Loss: 0.0508 | mPA: 97.99% | IoU: 0.7498\n"
     ]
    },
    {
     "name": "stderr",
     "output_type": "stream",
     "text": [
      "Evaluating Validation: 100%|██████████| 283/283 [03:02<00:00,  1.55it/s]\n"
     ]
    },
    {
     "name": "stdout",
     "output_type": "stream",
     "text": [
      "Validation - Epoch [7/25] - Loss: 0.0514 | mPA: 98.00% | IoU: 0.7575\n"
     ]
    },
    {
     "name": "stderr",
     "output_type": "stream",
     "text": [
      "Training Epoch 8/25: 100%|██████████| 1130/1130 [13:52<00:00,  1.36it/s]\n"
     ]
    },
    {
     "name": "stdout",
     "output_type": "stream",
     "text": [
      "Training - Epoch [8/25] - Loss: 0.0495 | mPA: 98.02% | IoU: 0.7550\n"
     ]
    },
    {
     "name": "stderr",
     "output_type": "stream",
     "text": [
      "Evaluating Validation: 100%|██████████| 283/283 [03:02<00:00,  1.55it/s]\n"
     ]
    },
    {
     "name": "stdout",
     "output_type": "stream",
     "text": [
      "Validation - Epoch [8/25] - Loss: 0.0517 | mPA: 97.98% | IoU: 0.7485\n"
     ]
    },
    {
     "name": "stderr",
     "output_type": "stream",
     "text": [
      "Training Epoch 9/25: 100%|██████████| 1130/1130 [13:57<00:00,  1.35it/s]\n"
     ]
    },
    {
     "name": "stdout",
     "output_type": "stream",
     "text": [
      "Training - Epoch [9/25] - Loss: 0.0486 | mPA: 98.05% | IoU: 0.7574\n"
     ]
    },
    {
     "name": "stderr",
     "output_type": "stream",
     "text": [
      "Evaluating Validation: 100%|██████████| 283/283 [03:02<00:00,  1.55it/s]\n"
     ]
    },
    {
     "name": "stdout",
     "output_type": "stream",
     "text": [
      "Validation - Epoch [9/25] - Loss: 0.0552 | mPA: 97.88% | IoU: 0.7506\n"
     ]
    },
    {
     "name": "stderr",
     "output_type": "stream",
     "text": [
      "Training Epoch 10/25: 100%|██████████| 1130/1130 [13:47<00:00,  1.37it/s]\n"
     ]
    },
    {
     "name": "stdout",
     "output_type": "stream",
     "text": [
      "Training - Epoch [10/25] - Loss: 0.0471 | mPA: 98.08% | IoU: 0.7614\n"
     ]
    },
    {
     "name": "stderr",
     "output_type": "stream",
     "text": [
      "Evaluating Validation: 100%|██████████| 283/283 [03:02<00:00,  1.55it/s]\n"
     ]
    },
    {
     "name": "stdout",
     "output_type": "stream",
     "text": [
      "Validation - Epoch [10/25] - Loss: 0.0505 | mPA: 98.02% | IoU: 0.7510\n"
     ]
    },
    {
     "name": "stderr",
     "output_type": "stream",
     "text": [
      "Training Epoch 11/25: 100%|██████████| 1130/1130 [13:49<00:00,  1.36it/s]\n"
     ]
    },
    {
     "name": "stdout",
     "output_type": "stream",
     "text": [
      "Training - Epoch [11/25] - Loss: 0.0468 | mPA: 98.08% | IoU: 0.7614\n"
     ]
    },
    {
     "name": "stderr",
     "output_type": "stream",
     "text": [
      "Evaluating Validation: 100%|██████████| 283/283 [03:02<00:00,  1.55it/s]\n"
     ]
    },
    {
     "name": "stdout",
     "output_type": "stream",
     "text": [
      "Validation - Epoch [11/25] - Loss: 0.0497 | mPA: 98.07% | IoU: 0.7528\n"
     ]
    },
    {
     "name": "stderr",
     "output_type": "stream",
     "text": [
      "Training Epoch 12/25: 100%|██████████| 1130/1130 [13:53<00:00,  1.35it/s]\n"
     ]
    },
    {
     "name": "stdout",
     "output_type": "stream",
     "text": [
      "Training - Epoch [12/25] - Loss: 0.0458 | mPA: 98.11% | IoU: 0.7652\n"
     ]
    },
    {
     "name": "stderr",
     "output_type": "stream",
     "text": [
      "Evaluating Validation: 100%|██████████| 283/283 [03:02<00:00,  1.55it/s]\n"
     ]
    },
    {
     "name": "stdout",
     "output_type": "stream",
     "text": [
      "Validation - Epoch [12/25] - Loss: 0.0521 | mPA: 98.03% | IoU: 0.7570\n"
     ]
    },
    {
     "name": "stderr",
     "output_type": "stream",
     "text": [
      "Training Epoch 13/25: 100%|██████████| 1130/1130 [13:47<00:00,  1.37it/s]\n"
     ]
    },
    {
     "name": "stdout",
     "output_type": "stream",
     "text": [
      "Training - Epoch [13/25] - Loss: 0.0446 | mPA: 98.15% | IoU: 0.7682\n"
     ]
    },
    {
     "name": "stderr",
     "output_type": "stream",
     "text": [
      "Evaluating Validation: 100%|██████████| 283/283 [03:01<00:00,  1.56it/s]\n"
     ]
    },
    {
     "name": "stdout",
     "output_type": "stream",
     "text": [
      "Validation - Epoch [13/25] - Loss: 0.0556 | mPA: 98.02% | IoU: 0.7558\n"
     ]
    },
    {
     "name": "stderr",
     "output_type": "stream",
     "text": [
      "Training Epoch 14/25: 100%|██████████| 1130/1130 [13:52<00:00,  1.36it/s]\n"
     ]
    },
    {
     "name": "stdout",
     "output_type": "stream",
     "text": [
      "Training - Epoch [14/25] - Loss: 0.0443 | mPA: 98.15% | IoU: 0.7694\n"
     ]
    },
    {
     "name": "stderr",
     "output_type": "stream",
     "text": [
      "Evaluating Validation: 100%|██████████| 283/283 [03:01<00:00,  1.56it/s]\n"
     ]
    },
    {
     "name": "stdout",
     "output_type": "stream",
     "text": [
      "Validation - Epoch [14/25] - Loss: 0.0487 | mPA: 98.10% | IoU: 0.7604\n"
     ]
    },
    {
     "name": "stderr",
     "output_type": "stream",
     "text": [
      "Training Epoch 15/25: 100%|██████████| 1130/1130 [13:43<00:00,  1.37it/s]\n"
     ]
    },
    {
     "name": "stdout",
     "output_type": "stream",
     "text": [
      "Training - Epoch [15/25] - Loss: 0.0436 | mPA: 98.17% | IoU: 0.7711\n"
     ]
    },
    {
     "name": "stderr",
     "output_type": "stream",
     "text": [
      "Evaluating Validation: 100%|██████████| 283/283 [03:01<00:00,  1.56it/s]\n"
     ]
    },
    {
     "name": "stdout",
     "output_type": "stream",
     "text": [
      "Validation - Epoch [15/25] - Loss: 0.0496 | mPA: 98.04% | IoU: 0.7603\n"
     ]
    },
    {
     "name": "stderr",
     "output_type": "stream",
     "text": [
      "Training Epoch 16/25: 100%|██████████| 1130/1130 [13:42<00:00,  1.37it/s]\n"
     ]
    },
    {
     "name": "stdout",
     "output_type": "stream",
     "text": [
      "Training - Epoch [16/25] - Loss: 0.0425 | mPA: 98.20% | IoU: 0.7749\n"
     ]
    },
    {
     "name": "stderr",
     "output_type": "stream",
     "text": [
      "Evaluating Validation: 100%|██████████| 283/283 [03:00<00:00,  1.57it/s]\n"
     ]
    },
    {
     "name": "stdout",
     "output_type": "stream",
     "text": [
      "Validation - Epoch [16/25] - Loss: 0.0484 | mPA: 98.11% | IoU: 0.7651\n"
     ]
    },
    {
     "name": "stderr",
     "output_type": "stream",
     "text": [
      "Training Epoch 17/25: 100%|██████████| 1130/1130 [13:38<00:00,  1.38it/s]\n"
     ]
    },
    {
     "name": "stdout",
     "output_type": "stream",
     "text": [
      "Training - Epoch [17/25] - Loss: 0.0412 | mPA: 98.24% | IoU: 0.7786\n"
     ]
    },
    {
     "name": "stderr",
     "output_type": "stream",
     "text": [
      "Evaluating Validation: 100%|██████████| 283/283 [03:00<00:00,  1.57it/s]\n"
     ]
    },
    {
     "name": "stdout",
     "output_type": "stream",
     "text": [
      "Validation - Epoch [17/25] - Loss: 0.0493 | mPA: 98.07% | IoU: 0.7675\n"
     ]
    },
    {
     "name": "stderr",
     "output_type": "stream",
     "text": [
      "Training Epoch 18/25: 100%|██████████| 1130/1130 [13:39<00:00,  1.38it/s]\n"
     ]
    },
    {
     "name": "stdout",
     "output_type": "stream",
     "text": [
      "Training - Epoch [18/25] - Loss: 0.0409 | mPA: 98.25% | IoU: 0.7807\n"
     ]
    },
    {
     "name": "stderr",
     "output_type": "stream",
     "text": [
      "Evaluating Validation: 100%|██████████| 283/283 [03:00<00:00,  1.57it/s]\n"
     ]
    },
    {
     "name": "stdout",
     "output_type": "stream",
     "text": [
      "Validation - Epoch [18/25] - Loss: 0.0486 | mPA: 98.06% | IoU: 0.7649\n"
     ]
    },
    {
     "name": "stderr",
     "output_type": "stream",
     "text": [
      "Training Epoch 19/25: 100%|██████████| 1130/1130 [13:42<00:00,  1.37it/s]\n"
     ]
    },
    {
     "name": "stdout",
     "output_type": "stream",
     "text": [
      "Training - Epoch [19/25] - Loss: 0.0398 | mPA: 98.28% | IoU: 0.7842\n"
     ]
    },
    {
     "name": "stderr",
     "output_type": "stream",
     "text": [
      "Evaluating Validation: 100%|██████████| 283/283 [03:00<00:00,  1.56it/s]\n"
     ]
    },
    {
     "name": "stdout",
     "output_type": "stream",
     "text": [
      "Validation - Epoch [19/25] - Loss: 0.0518 | mPA: 98.00% | IoU: 0.7612\n"
     ]
    },
    {
     "name": "stderr",
     "output_type": "stream",
     "text": [
      "Training Epoch 20/25: 100%|██████████| 1130/1130 [13:39<00:00,  1.38it/s]\n"
     ]
    },
    {
     "name": "stdout",
     "output_type": "stream",
     "text": [
      "Training - Epoch [20/25] - Loss: 0.0398 | mPA: 98.29% | IoU: 0.7845\n"
     ]
    },
    {
     "name": "stderr",
     "output_type": "stream",
     "text": [
      "Evaluating Validation: 100%|██████████| 283/283 [03:00<00:00,  1.57it/s]\n"
     ]
    },
    {
     "name": "stdout",
     "output_type": "stream",
     "text": [
      "Validation - Epoch [20/25] - Loss: 0.0482 | mPA: 98.08% | IoU: 0.7679\n"
     ]
    },
    {
     "name": "stderr",
     "output_type": "stream",
     "text": [
      "Training Epoch 21/25: 100%|██████████| 1130/1130 [13:39<00:00,  1.38it/s]\n"
     ]
    },
    {
     "name": "stdout",
     "output_type": "stream",
     "text": [
      "Training - Epoch [21/25] - Loss: 0.0389 | mPA: 98.32% | IoU: 0.7868\n"
     ]
    },
    {
     "name": "stderr",
     "output_type": "stream",
     "text": [
      "Evaluating Validation: 100%|██████████| 283/283 [03:00<00:00,  1.57it/s]\n"
     ]
    },
    {
     "name": "stdout",
     "output_type": "stream",
     "text": [
      "Validation - Epoch [21/25] - Loss: 0.0492 | mPA: 98.08% | IoU: 0.7626\n"
     ]
    },
    {
     "name": "stderr",
     "output_type": "stream",
     "text": [
      "Training Epoch 22/25: 100%|██████████| 1130/1130 [13:38<00:00,  1.38it/s]\n"
     ]
    },
    {
     "name": "stdout",
     "output_type": "stream",
     "text": [
      "Training - Epoch [22/25] - Loss: 0.0380 | mPA: 98.35% | IoU: 0.7907\n"
     ]
    },
    {
     "name": "stderr",
     "output_type": "stream",
     "text": [
      "Evaluating Validation: 100%|██████████| 283/283 [03:00<00:00,  1.57it/s]\n"
     ]
    },
    {
     "name": "stdout",
     "output_type": "stream",
     "text": [
      "Validation - Epoch [22/25] - Loss: 0.0496 | mPA: 98.10% | IoU: 0.7695\n"
     ]
    },
    {
     "name": "stderr",
     "output_type": "stream",
     "text": [
      "Training Epoch 23/25: 100%|██████████| 1130/1130 [13:38<00:00,  1.38it/s]\n"
     ]
    },
    {
     "name": "stdout",
     "output_type": "stream",
     "text": [
      "Training - Epoch [23/25] - Loss: 0.0374 | mPA: 98.37% | IoU: 0.7929\n"
     ]
    },
    {
     "name": "stderr",
     "output_type": "stream",
     "text": [
      "Evaluating Validation: 100%|██████████| 283/283 [03:00<00:00,  1.57it/s]\n"
     ]
    },
    {
     "name": "stdout",
     "output_type": "stream",
     "text": [
      "Validation - Epoch [23/25] - Loss: 0.0497 | mPA: 98.13% | IoU: 0.7633\n"
     ]
    },
    {
     "name": "stderr",
     "output_type": "stream",
     "text": [
      "Training Epoch 24/25: 100%|██████████| 1130/1130 [13:36<00:00,  1.38it/s]\n"
     ]
    },
    {
     "name": "stdout",
     "output_type": "stream",
     "text": [
      "Training - Epoch [24/25] - Loss: 0.0373 | mPA: 98.37% | IoU: 0.7931\n"
     ]
    },
    {
     "name": "stderr",
     "output_type": "stream",
     "text": [
      "Evaluating Validation: 100%|██████████| 283/283 [03:00<00:00,  1.57it/s]\n"
     ]
    },
    {
     "name": "stdout",
     "output_type": "stream",
     "text": [
      "Validation - Epoch [24/25] - Loss: 0.0510 | mPA: 98.04% | IoU: 0.7640\n"
     ]
    },
    {
     "name": "stderr",
     "output_type": "stream",
     "text": [
      "Training Epoch 25/25: 100%|██████████| 1130/1130 [13:37<00:00,  1.38it/s]\n"
     ]
    },
    {
     "name": "stdout",
     "output_type": "stream",
     "text": [
      "Training - Epoch [25/25] - Loss: 0.0368 | mPA: 98.39% | IoU: 0.7953\n"
     ]
    },
    {
     "name": "stderr",
     "output_type": "stream",
     "text": [
      "Evaluating Validation: 100%|██████████| 283/283 [02:59<00:00,  1.57it/s]\n"
     ]
    },
    {
     "name": "stdout",
     "output_type": "stream",
     "text": [
      "Validation - Epoch [25/25] - Loss: 0.0491 | mPA: 98.11% | IoU: 0.7645\n"
     ]
    },
    {
     "data": {
      "image/png": "[encoded data removed]",
      "text/plain": [
       "<Figure size 2100x600 with 3 Axes>"
      ]
     },
     "metadata": {},
     "output_type": "display_data"
    },
    {
     "ename": "RuntimeError",
     "evalue": "Parent directory extracted_dataset/crack_segmentation_dataset/weights does not exist.",
     "output_type": "error",
     "traceback": [
      "\u001b[0;31m---------------------------------------------------------------------------\u001b[0m",
      "\u001b[0;31mRuntimeError\u001b[0m                              Traceback (most recent call last)",
      "Cell \u001b[0;32mIn[70], line 10\u001b[0m\n\u001b[1;32m      8\u001b[0m filename \u001b[38;5;241m=\u001b[39m \u001b[38;5;124m'\u001b[39m\u001b[38;5;124mres_net_best_weight.pth\u001b[39m\u001b[38;5;124m'\u001b[39m\n\u001b[1;32m      9\u001b[0m save_path \u001b[38;5;241m=\u001b[39m os\u001b[38;5;241m.\u001b[39mpath\u001b[38;5;241m.\u001b[39mjoin(weight_dir, filename)\n\u001b[0;32m---> 10\u001b[0m \u001b[43mtorch\u001b[49m\u001b[38;5;241;43m.\u001b[39;49m\u001b[43msave\u001b[49m\u001b[43m(\u001b[49m\u001b[43mtrainer\u001b[49m\u001b[38;5;241;43m.\u001b[39;49m\u001b[43mmodel\u001b[49m\u001b[38;5;241;43m.\u001b[39;49m\u001b[43mstate_dict\u001b[49m\u001b[43m(\u001b[49m\u001b[43m)\u001b[49m\u001b[43m,\u001b[49m\u001b[43m \u001b[49m\u001b[43msave_path\u001b[49m\u001b[43m)\u001b[49m\n",
      "File \u001b[0;32m/opt/conda/lib/python3.11/site-packages/torch/serialization.py:651\u001b[0m, in \u001b[0;36msave\u001b[0;34m(obj, f, pickle_module, pickle_protocol, _use_new_zipfile_serialization, _disable_byteorder_record)\u001b[0m\n\u001b[1;32m    648\u001b[0m _check_save_filelike(f)\n\u001b[1;32m    650\u001b[0m \u001b[38;5;28;01mif\u001b[39;00m _use_new_zipfile_serialization:\n\u001b[0;32m--> 651\u001b[0m     \u001b[38;5;28;01mwith\u001b[39;00m \u001b[43m_open_zipfile_writer\u001b[49m\u001b[43m(\u001b[49m\u001b[43mf\u001b[49m\u001b[43m)\u001b[49m \u001b[38;5;28;01mas\u001b[39;00m opened_zipfile:\n\u001b[1;32m    652\u001b[0m         _save(obj, opened_zipfile, pickle_module, pickle_protocol, _disable_byteorder_record)\n\u001b[1;32m    653\u001b[0m         \u001b[38;5;28;01mreturn\u001b[39;00m\n",
      "File \u001b[0;32m/opt/conda/lib/python3.11/site-packages/torch/serialization.py:525\u001b[0m, in \u001b[0;36m_open_zipfile_writer\u001b[0;34m(name_or_buffer)\u001b[0m\n\u001b[1;32m    523\u001b[0m \u001b[38;5;28;01melse\u001b[39;00m:\n\u001b[1;32m    524\u001b[0m     container \u001b[38;5;241m=\u001b[39m _open_zipfile_writer_buffer\n\u001b[0;32m--> 525\u001b[0m \u001b[38;5;28;01mreturn\u001b[39;00m \u001b[43mcontainer\u001b[49m\u001b[43m(\u001b[49m\u001b[43mname_or_buffer\u001b[49m\u001b[43m)\u001b[49m\n",
      "File \u001b[0;32m/opt/conda/lib/python3.11/site-packages/torch/serialization.py:496\u001b[0m, in \u001b[0;36m_open_zipfile_writer_file.__init__\u001b[0;34m(self, name)\u001b[0m\n\u001b[1;32m    494\u001b[0m     \u001b[38;5;28msuper\u001b[39m()\u001b[38;5;241m.\u001b[39m\u001b[38;5;21m__init__\u001b[39m(torch\u001b[38;5;241m.\u001b[39m_C\u001b[38;5;241m.\u001b[39mPyTorchFileWriter(\u001b[38;5;28mself\u001b[39m\u001b[38;5;241m.\u001b[39mfile_stream))\n\u001b[1;32m    495\u001b[0m \u001b[38;5;28;01melse\u001b[39;00m:\n\u001b[0;32m--> 496\u001b[0m     \u001b[38;5;28msuper\u001b[39m()\u001b[38;5;241m.\u001b[39m\u001b[38;5;21m__init__\u001b[39m(\u001b[43mtorch\u001b[49m\u001b[38;5;241;43m.\u001b[39;49m\u001b[43m_C\u001b[49m\u001b[38;5;241;43m.\u001b[39;49m\u001b[43mPyTorchFileWriter\u001b[49m\u001b[43m(\u001b[49m\u001b[38;5;28;43mself\u001b[39;49m\u001b[38;5;241;43m.\u001b[39;49m\u001b[43mname\u001b[49m\u001b[43m)\u001b[49m)\n",
      "\u001b[0;31mRuntimeError\u001b[0m: Parent directory extracted_dataset/crack_segmentation_dataset/weights does not exist."
     ]
    }
   ],
   "source": [
    "from torch.cuda.amp import GradScaler, autocast\n",
    "\n",
    "model = custom_DeepLabv3()\n",
    "trainer = Trainer_Wrapper(model, input_path, batch_size, max_epochs, num_of_classes)\n",
    "trainer.begin_train()\n",
    "\n",
    "weight_dir = input_path + \"/weights\"\n",
    "filename = 'res_net_best_weight.pth'\n",
    "save_path = os.path.join(weight_dir, filename)\n",
    "torch.save(trainer.model.state_dict(), save_path)"
   ]
  },
  {
   "cell_type": "code",
   "execution_count": 76,
   "id": "b0b8e8b8-54b1-4035-83df-3b87ac3609d9",
   "metadata": {
    "tags": []
   },
   "outputs": [],
   "source": [
    "from torch.cuda.amp import GradScaler, autocast\n",
    "\n",
    "\n",
    "weight_dir = \"extracted_dataset/crack_segmentation_dataset/weights\"\n",
    "filename = 'res_net_best_weight.pth'\n",
    "save_path = os.path.join(weight_dir, filename)\n",
    "torch.save(trainer.model.state_dict(), save_path)"
   ]
  },
  {
   "cell_type": "code",
   "execution_count": 79,
   "id": "f138b414-54d6-4803-9c50-2004f89e46c6",
   "metadata": {
    "tags": []
   },
   "outputs": [],
   "source": [
    "\n",
    "plot_combined_metrics(\n",
    "    trainer.train_loss_history, trainer.eval_loss_history,\n",
    "    trainer.train_iou_history, trainer.eval_iou_history,\n",
    "    trainer.train_correct_history, trainer.eval_correct_history,\n",
    "    save_path='training_validation_metrics.png'  # Save the plot as a PNG file\n",
    ")\n",
    "\n"
   ]
  },
  {
   "cell_type": "code",
   "execution_count": 80,
   "id": "d5f95fd1-69fe-48c7-84b3-4e1953292896",
   "metadata": {
    "tags": []
   },
   "outputs": [
    {
     "name": "stdout",
     "output_type": "stream",
     "text": [
      "Metrics exported to 'training_metrics_report.csv'\n"
     ]
    }
   ],
   "source": [
    "import pandas as pd\n",
    "\n",
    "# Create a DataFrame from the training metrics\n",
    "metrics_df = pd.DataFrame({\n",
    "    'Epoch': range(1, len(trainer.train_loss_history) + 1),\n",
    "    'Train Loss': trainer.train_loss_history,\n",
    "    'Validation Loss': trainer.eval_loss_history,\n",
    "    'Train IoU': trainer.train_iou_history,\n",
    "    'Validation IoU': trainer.eval_iou_history,\n",
    "    'Train mPA': trainer.train_correct_history,\n",
    "    'Validation mPA': trainer.eval_correct_history\n",
    "})\n",
    "\n",
    "# Export to CSV\n",
    "metrics_df.to_csv('training_metrics_report.csv', index=False)\n",
    "\n",
    "print(\"Metrics exported to 'training_metrics_report.csv'\")\n"
   ]
  },
  {
   "cell_type": "code",
   "execution_count": null,
   "id": "1b444b14-9be3-41a5-9e11-240c5fd41733",
   "metadata": {},
   "outputs": [],
   "source": []
  }
 ],
 "metadata": {
  "availableInstances": [
   {
    "_defaultOrder": 0,
    "_isFastLaunch": true,
    "category": "General purpose",
    "gpuNum": 0,
    "hideHardwareSpecs": false,
    "memoryGiB": 4,
    "name": "ml.t3.medium",
    "vcpuNum": 2
   },
   {
    "_defaultOrder": 1,
    "_isFastLaunch": false,
    "category": "General purpose",
    "gpuNum": 0,
    "hideHardwareSpecs": false,
    "memoryGiB": 8,
    "name": "ml.t3.large",
    "vcpuNum": 2
   },
   {
    "_defaultOrder": 2,
    "_isFastLaunch": false,
    "category": "General purpose",
    "gpuNum": 0,
    "hideHardwareSpecs": false,
    "memoryGiB": 16,
    "name": "ml.t3.xlarge",
    "vcpuNum": 4
   },
   {
    "_defaultOrder": 3,
    "_isFastLaunch": false,
    "category": "General purpose",
    "gpuNum": 0,
    "hideHardwareSpecs": false,
    "memoryGiB": 32,
    "name": "ml.t3.2xlarge",
    "vcpuNum": 8
   },
   {
    "_defaultOrder": 4,
    "_isFastLaunch": true,
    "category": "General purpose",
    "gpuNum": 0,
    "hideHardwareSpecs": false,
    "memoryGiB": 8,
    "name": "ml.m5.large",
    "vcpuNum": 2
   },
   {
    "_defaultOrder": 5,
    "_isFastLaunch": false,
    "category": "General purpose",
    "gpuNum": 0,
    "hideHardwareSpecs": false,
    "memoryGiB": 16,
    "name": "ml.m5.xlarge",
    "vcpuNum": 4
   },
   {
    "_defaultOrder": 6,
    "_isFastLaunch": false,
    "category": "General purpose",
    "gpuNum": 0,
    "hideHardwareSpecs": false,
    "memoryGiB": 32,
    "name": "ml.m5.2xlarge",
    "vcpuNum": 8
   },
   {
    "_defaultOrder": 7,
    "_isFastLaunch": false,
    "category": "General purpose",
    "gpuNum": 0,
    "hideHardwareSpecs": false,
    "memoryGiB": 64,
    "name": "ml.m5.4xlarge",
    "vcpuNum": 16
   },
   {
    "_defaultOrder": 8,
    "_isFastLaunch": false,
    "category": "General purpose",
    "gpuNum": 0,
    "hideHardwareSpecs": false,
    "memoryGiB": 128,
    "name": "ml.m5.8xlarge",
    "vcpuNum": 32
   },
   {
    "_defaultOrder": 9,
    "_isFastLaunch": false,
    "category": "General purpose",
    "gpuNum": 0,
    "hideHardwareSpecs": false,
    "memoryGiB": 192,
    "name": "ml.m5.12xlarge",
    "vcpuNum": 48
   },
   {
    "_defaultOrder": 10,
    "_isFastLaunch": false,
    "category": "General purpose",
    "gpuNum": 0,
    "hideHardwareSpecs": false,
    "memoryGiB": 256,
    "name": "ml.m5.16xlarge",
    "vcpuNum": 64
   },
   {
    "_defaultOrder": 11,
    "_isFastLaunch": false,
    "category": "General purpose",
    "gpuNum": 0,
    "hideHardwareSpecs": false,
    "memoryGiB": 384,
    "name": "ml.m5.24xlarge",
    "vcpuNum": 96
   },
   {
    "_defaultOrder": 12,
    "_isFastLaunch": false,
    "category": "General purpose",
    "gpuNum": 0,
    "hideHardwareSpecs": false,
    "memoryGiB": 8,
    "name": "ml.m5d.large",
    "vcpuNum": 2
   },
   {
    "_defaultOrder": 13,
    "_isFastLaunch": false,
    "category": "General purpose",
    "gpuNum": 0,
    "hideHardwareSpecs": false,
    "memoryGiB": 16,
    "name": "ml.m5d.xlarge",
    "vcpuNum": 4
   },
   {
    "_defaultOrder": 14,
    "_isFastLaunch": false,
    "category": "General purpose",
    "gpuNum": 0,
    "hideHardwareSpecs": false,
    "memoryGiB": 32,
    "name": "ml.m5d.2xlarge",
    "vcpuNum": 8
   },
   {
    "_defaultOrder": 15,
    "_isFastLaunch": false,
    "category": "General purpose",
    "gpuNum": 0,
    "hideHardwareSpecs": false,
    "memoryGiB": 64,
    "name": "ml.m5d.4xlarge",
    "vcpuNum": 16
   },
   {
    "_defaultOrder": 16,
    "_isFastLaunch": false,
    "category": "General purpose",
    "gpuNum": 0,
    "hideHardwareSpecs": false,
    "memoryGiB": 128,
    "name": "ml.m5d.8xlarge",
    "vcpuNum": 32
   },
   {
    "_defaultOrder": 17,
    "_isFastLaunch": false,
    "category": "General purpose",
    "gpuNum": 0,
    "hideHardwareSpecs": false,
    "memoryGiB": 192,
    "name": "ml.m5d.12xlarge",
    "vcpuNum": 48
   },
   {
    "_defaultOrder": 18,
    "_isFastLaunch": false,
    "category": "General purpose",
    "gpuNum": 0,
    "hideHardwareSpecs": false,
    "memoryGiB": 256,
    "name": "ml.m5d.16xlarge",
    "vcpuNum": 64
   },
   {
    "_defaultOrder": 19,
    "_isFastLaunch": false,
    "category": "General purpose",
    "gpuNum": 0,
    "hideHardwareSpecs": false,
    "memoryGiB": 384,
    "name": "ml.m5d.24xlarge",
    "vcpuNum": 96
   },
   {
    "_defaultOrder": 20,
    "_isFastLaunch": false,
    "category": "General purpose",
    "gpuNum": 0,
    "hideHardwareSpecs": true,
    "memoryGiB": 0,
    "name": "ml.geospatial.interactive",
    "supportedImageNames": [
     "sagemaker-geospatial-v1-0"
    ],
    "vcpuNum": 0
   },
   {
    "_defaultOrder": 21,
    "_isFastLaunch": true,
    "category": "Compute optimized",
    "gpuNum": 0,
    "hideHardwareSpecs": false,
    "memoryGiB": 4,
    "name": "ml.c5.large",
    "vcpuNum": 2
   },
   {
    "_defaultOrder": 22,
    "_isFastLaunch": false,
    "category": "Compute optimized",
    "gpuNum": 0,
    "hideHardwareSpecs": false,
    "memoryGiB": 8,
    "name": "ml.c5.xlarge",
    "vcpuNum": 4
   },
   {
    "_defaultOrder": 23,
    "_isFastLaunch": false,
    "category": "Compute optimized",
    "gpuNum": 0,
    "hideHardwareSpecs": false,
    "memoryGiB": 16,
    "name": "ml.c5.2xlarge",
    "vcpuNum": 8
   },
   {
    "_defaultOrder": 24,
    "_isFastLaunch": false,
    "category": "Compute optimized",
    "gpuNum": 0,
    "hideHardwareSpecs": false,
    "memoryGiB": 32,
    "name": "ml.c5.4xlarge",
    "vcpuNum": 16
   },
   {
    "_defaultOrder": 25,
    "_isFastLaunch": false,
    "category": "Compute optimized",
    "gpuNum": 0,
    "hideHardwareSpecs": false,
    "memoryGiB": 72,
    "name": "ml.c5.9xlarge",
    "vcpuNum": 36
   },
   {
    "_defaultOrder": 26,
    "_isFastLaunch": false,
    "category": "Compute optimized",
    "gpuNum": 0,
    "hideHardwareSpecs": false,
    "memoryGiB": 96,
    "name": "ml.c5.12xlarge",
    "vcpuNum": 48
   },
   {
    "_defaultOrder": 27,
    "_isFastLaunch": false,
    "category": "Compute optimized",
    "gpuNum": 0,
    "hideHardwareSpecs": false,
    "memoryGiB": 144,
    "name": "ml.c5.18xlarge",
    "vcpuNum": 72
   },
   {
    "_defaultOrder": 28,
    "_isFastLaunch": false,
    "category": "Compute optimized",
    "gpuNum": 0,
    "hideHardwareSpecs": false,
    "memoryGiB": 192,
    "name": "ml.c5.24xlarge",
    "vcpuNum": 96
   },
   {
    "_defaultOrder": 29,
    "_isFastLaunch": true,
    "category": "Accelerated computing",
    "gpuNum": 1,
    "hideHardwareSpecs": false,
    "memoryGiB": 16,
    "name": "ml.g4dn.xlarge",
    "vcpuNum": 4
   },
   {
    "_defaultOrder": 30,
    "_isFastLaunch": false,
    "category": "Accelerated computing",
    "gpuNum": 1,
    "hideHardwareSpecs": false,
    "memoryGiB": 32,
    "name": "ml.g4dn.2xlarge",
    "vcpuNum": 8
   },
   {
    "_defaultOrder": 31,
    "_isFastLaunch": false,
    "category": "Accelerated computing",
    "gpuNum": 1,
    "hideHardwareSpecs": false,
    "memoryGiB": 64,
    "name": "ml.g4dn.4xlarge",
    "vcpuNum": 16
   },
   {
    "_defaultOrder": 32,
    "_isFastLaunch": false,
    "category": "Accelerated computing",
    "gpuNum": 1,
    "hideHardwareSpecs": false,
    "memoryGiB": 128,
    "name": "ml.g4dn.8xlarge",
    "vcpuNum": 32
   },
   {
    "_defaultOrder": 33,
    "_isFastLaunch": false,
    "category": "Accelerated computing",
    "gpuNum": 4,
    "hideHardwareSpecs": false,
    "memoryGiB": 192,
    "name": "ml.g4dn.12xlarge",
    "vcpuNum": 48
   },
   {
    "_defaultOrder": 34,
    "_isFastLaunch": false,
    "category": "Accelerated computing",
    "gpuNum": 1,
    "hideHardwareSpecs": false,
    "memoryGiB": 256,
    "name": "ml.g4dn.16xlarge",
    "vcpuNum": 64
   },
   {
    "_defaultOrder": 35,
    "_isFastLaunch": false,
    "category": "Accelerated computing",
    "gpuNum": 1,
    "hideHardwareSpecs": false,
    "memoryGiB": 61,
    "name": "ml.p3.2xlarge",
    "vcpuNum": 8
   },
   {
    "_defaultOrder": 36,
    "_isFastLaunch": false,
    "category": "Accelerated computing",
    "gpuNum": 4,
    "hideHardwareSpecs": false,
    "memoryGiB": 244,
    "name": "ml.p3.8xlarge",
    "vcpuNum": 32
   },
   {
    "_defaultOrder": 37,
    "_isFastLaunch": false,
    "category": "Accelerated computing",
    "gpuNum": 8,
    "hideHardwareSpecs": false,
    "memoryGiB": 488,
    "name": "ml.p3.16xlarge",
    "vcpuNum": 64
   },
   {
    "_defaultOrder": 38,
    "_isFastLaunch": false,
    "category": "Accelerated computing",
    "gpuNum": 8,
    "hideHardwareSpecs": false,
    "memoryGiB": 768,
    "name": "ml.p3dn.24xlarge",
    "vcpuNum": 96
   },
   {
    "_defaultOrder": 39,
    "_isFastLaunch": false,
    "category": "Memory Optimized",
    "gpuNum": 0,
    "hideHardwareSpecs": false,
    "memoryGiB": 16,
    "name": "ml.r5.large",
    "vcpuNum": 2
   },
   {
    "_defaultOrder": 40,
    "_isFastLaunch": false,
    "category": "Memory Optimized",
    "gpuNum": 0,
    "hideHardwareSpecs": false,
    "memoryGiB": 32,
    "name": "ml.r5.xlarge",
    "vcpuNum": 4
   },
   {
    "_defaultOrder": 41,
    "_isFastLaunch": false,
    "category": "Memory Optimized",
    "gpuNum": 0,
    "hideHardwareSpecs": false,
    "memoryGiB": 64,
    "name": "ml.r5.2xlarge",
    "vcpuNum": 8
   },
   {
    "_defaultOrder": 42,
    "_isFastLaunch": false,
    "category": "Memory Optimized",
    "gpuNum": 0,
    "hideHardwareSpecs": false,
    "memoryGiB": 128,
    "name": "ml.r5.4xlarge",
    "vcpuNum": 16
   },
   {
    "_defaultOrder": 43,
    "_isFastLaunch": false,
    "category": "Memory Optimized",
    "gpuNum": 0,
    "hideHardwareSpecs": false,
    "memoryGiB": 256,
    "name": "ml.r5.8xlarge",
    "vcpuNum": 32
   },
   {
    "_defaultOrder": 44,
    "_isFastLaunch": false,
    "category": "Memory Optimized",
    "gpuNum": 0,
    "hideHardwareSpecs": false,
    "memoryGiB": 384,
    "name": "ml.r5.12xlarge",
    "vcpuNum": 48
   },
   {
    "_defaultOrder": 45,
    "_isFastLaunch": false,
    "category": "Memory Optimized",
    "gpuNum": 0,
    "hideHardwareSpecs": false,
    "memoryGiB": 512,
    "name": "ml.r5.16xlarge",
    "vcpuNum": 64
   },
   {
    "_defaultOrder": 46,
    "_isFastLaunch": false,
    "category": "Memory Optimized",
    "gpuNum": 0,
    "hideHardwareSpecs": false,
    "memoryGiB": 768,
    "name": "ml.r5.24xlarge",
    "vcpuNum": 96
   },
   {
    "_defaultOrder": 47,
    "_isFastLaunch": false,
    "category": "Accelerated computing",
    "gpuNum": 1,
    "hideHardwareSpecs": false,
    "memoryGiB": 16,
    "name": "ml.g5.xlarge",
    "vcpuNum": 4
   },
   {
    "_defaultOrder": 48,
    "_isFastLaunch": false,
    "category": "Accelerated computing",
    "gpuNum": 1,
    "hideHardwareSpecs": false,
    "memoryGiB": 32,
    "name": "ml.g5.2xlarge",
    "vcpuNum": 8
   },
   {
    "_defaultOrder": 49,
    "_isFastLaunch": false,
    "category": "Accelerated computing",
    "gpuNum": 1,
    "hideHardwareSpecs": false,
    "memoryGiB": 64,
    "name": "ml.g5.4xlarge",
    "vcpuNum": 16
   },
   {
    "_defaultOrder": 50,
    "_isFastLaunch": false,
    "category": "Accelerated computing",
    "gpuNum": 1,
    "hideHardwareSpecs": false,
    "memoryGiB": 128,
    "name": "ml.g5.8xlarge",
    "vcpuNum": 32
   },
   {
    "_defaultOrder": 51,
    "_isFastLaunch": false,
    "category": "Accelerated computing",
    "gpuNum": 1,
    "hideHardwareSpecs": false,
    "memoryGiB": 256,
    "name": "ml.g5.16xlarge",
    "vcpuNum": 64
   },
   {
    "_defaultOrder": 52,
    "_isFastLaunch": false,
    "category": "Accelerated computing",
    "gpuNum": 4,
    "hideHardwareSpecs": false,
    "memoryGiB": 192,
    "name": "ml.g5.12xlarge",
    "vcpuNum": 48
   },
   {
    "_defaultOrder": 53,
    "_isFastLaunch": false,
    "category": "Accelerated computing",
    "gpuNum": 4,
    "hideHardwareSpecs": false,
    "memoryGiB": 384,
    "name": "ml.g5.24xlarge",
    "vcpuNum": 96
   },
   {
    "_defaultOrder": 54,
    "_isFastLaunch": false,
    "category": "Accelerated computing",
    "gpuNum": 8,
    "hideHardwareSpecs": false,
    "memoryGiB": 768,
    "name": "ml.g5.48xlarge",
    "vcpuNum": 192
   },
   {
    "_defaultOrder": 55,
    "_isFastLaunch": false,
    "category": "Accelerated computing",
    "gpuNum": 8,
    "hideHardwareSpecs": false,
    "memoryGiB": 1152,
    "name": "ml.p4d.24xlarge",
    "vcpuNum": 96
   },
   {
    "_defaultOrder": 56,
    "_isFastLaunch": false,
    "category": "Accelerated computing",
    "gpuNum": 8,
    "hideHardwareSpecs": false,
    "memoryGiB": 1152,
    "name": "ml.p4de.24xlarge",
    "vcpuNum": 96
   },
   {
    "_defaultOrder": 57,
    "_isFastLaunch": false,
    "category": "Accelerated computing",
    "gpuNum": 0,
    "hideHardwareSpecs": false,
    "memoryGiB": 32,
    "name": "ml.trn1.2xlarge",
    "vcpuNum": 8
   },
   {
    "_defaultOrder": 58,
    "_isFastLaunch": false,
    "category": "Accelerated computing",
    "gpuNum": 0,
    "hideHardwareSpecs": false,
    "memoryGiB": 512,
    "name": "ml.trn1.32xlarge",
    "vcpuNum": 128
   },
   {
    "_defaultOrder": 59,
    "_isFastLaunch": false,
    "category": "Accelerated computing",
    "gpuNum": 0,
    "hideHardwareSpecs": false,
    "memoryGiB": 512,
    "name": "ml.trn1n.32xlarge",
    "vcpuNum": 128
   }
  ],
  "kernelspec": {
   "display_name": "Python 3 (PyTorch 2.4.0 Python 3.11 GPU Optimized)",
   "language": "python",
   "name": "python3__SAGEMAKER_INTERNAL__arn:aws:sagemaker:ap-southeast-2:452832661640:image/pytorch-2.4.0-gpu-py311"
  },
  "language_info": {
   "codemirror_mode": {
    "name": "ipython",
    "version": 3
   },
   "file_extension": ".py",
   "mimetype": "text/x-python",
   "name": "python",
   "nbconvert_exporter": "python",
   "pygments_lexer": "ipython3",
   "version": "3.11.9"
  }
 },
 "nbformat": 4,
 "nbformat_minor": 5
}
